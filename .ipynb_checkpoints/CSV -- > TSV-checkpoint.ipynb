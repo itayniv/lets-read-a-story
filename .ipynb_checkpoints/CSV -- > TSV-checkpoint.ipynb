{
 "cells": [
  {
   "cell_type": "code",
   "execution_count": 1,
   "metadata": {},
   "outputs": [],
   "source": [
    "import json\n",
    "import csv\n"
   ]
  },
  {
   "cell_type": "code",
   "execution_count": null,
   "metadata": {},
   "outputs": [],
   "source": [
    "with open('./public/word_embeadings.json') as f:\n",
    "    word_embeadings = json.load(f)"
   ]
  },
  {
   "cell_type": "code",
   "execution_count": 4,
   "metadata": {},
   "outputs": [],
   "source": [
    "\n",
    "j = json.loads(r'''[\n",
    "  {\n",
    "    \"x\": \"1\",\n",
    "    \"y\": \"2\",\n",
    "    \"z\": \"3\"\n",
    "  },\n",
    "  {\n",
    "    \"x\": \"6\",\n",
    "    \"y\": \"7\",\n",
    "    \"z\": \"B\"\n",
    "  }\n",
    "]''')\n",
    "\n",
    "with open('output.tsv', 'w') as output_file:\n",
    "    dw = csv.DictWriter(output_file, sorted(j[0].keys()), delimiter='\\t')\n",
    "    dw.writeheader()\n",
    "    dw.writerows(j)"
   ]
  },
  {
   "cell_type": "code",
   "execution_count": null,
   "metadata": {},
   "outputs": [],
   "source": []
  }
 ],
 "metadata": {
  "kernelspec": {
   "display_name": "Python 3",
   "language": "python",
   "name": "python3"
  },
  "language_info": {
   "codemirror_mode": {
    "name": "ipython",
    "version": 3
   },
   "file_extension": ".py",
   "mimetype": "text/x-python",
   "name": "python",
   "nbconvert_exporter": "python",
   "pygments_lexer": "ipython3",
   "version": "3.7.1"
  }
 },
 "nbformat": 4,
 "nbformat_minor": 2
}
