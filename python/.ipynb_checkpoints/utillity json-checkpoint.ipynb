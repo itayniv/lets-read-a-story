{
 "cells": [
  {
   "cell_type": "code",
   "execution_count": 1,
   "metadata": {},
   "outputs": [],
   "source": [
    "import json\n",
    "import random\n",
    "import numpy as np\n",
    "from scipy import spatial\n"
   ]
  },
  {
   "cell_type": "code",
   "execution_count": 2,
   "metadata": {},
   "outputs": [
    {
     "name": "stdout",
     "output_type": "stream",
     "text": [
      "Requirement already satisfied: simpleneighbors in /Users/itayniv/miniconda3/lib/python3.7/site-packages (0.0.1)\n",
      "Requirement already satisfied: annoy in /Users/itayniv/miniconda3/lib/python3.7/site-packages (from simpleneighbors) (1.15.1)\n",
      "Requirement already satisfied: annoy in /Users/itayniv/miniconda3/lib/python3.7/site-packages (1.15.1)\n"
     ]
    }
   ],
   "source": [
    "!pip install simpleneighbors\n",
    "!pip install annoy"
   ]
  },
  {
   "cell_type": "code",
   "execution_count": null,
   "metadata": {},
   "outputs": [],
   "source": [
    "aesop_stories = json.loads(open(\"./aesopFables.json\").read())"
   ]
  }
 ],
 "metadata": {
  "kernelspec": {
   "display_name": "Python 3",
   "language": "python",
   "name": "python3"
  },
  "language_info": {
   "codemirror_mode": {
    "name": "ipython",
    "version": 3
   },
   "file_extension": ".py",
   "mimetype": "text/x-python",
   "name": "python",
   "nbconvert_exporter": "python",
   "pygments_lexer": "ipython3",
   "version": "3.7.1"
  }
 },
 "nbformat": 4,
 "nbformat_minor": 2
}
